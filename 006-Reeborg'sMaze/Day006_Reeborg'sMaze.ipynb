{
  "nbformat": 4,
  "nbformat_minor": 0,
  "metadata": {
    "colab": {
      "provenance": [],
      "authorship_tag": "ABX9TyNppe1yaf3J7rS99FqcZMfd"
    },
    "kernelspec": {
      "name": "python3",
      "display_name": "Python 3"
    },
    "language_info": {
      "name": "python"
    }
  },
  "cells": [
    {
      "cell_type": "markdown",
      "source": [
        "# **Password Generator**\n",
        "\n"
      ],
      "metadata": {
        "id": "CqJSt5lF6Z9N"
      }
    },
    {
      "cell_type": "code",
      "execution_count": null,
      "metadata": {
        "id": "YY_3TjkdE4uI"
      },
      "outputs": [],
      "source": [
        "def turn_right():\n",
        "    turn_left()\n",
        "    turn_left()\n",
        "    turn_left()\n",
        "\n",
        "while front_is_clear():\n",
        "    move()\n",
        "\n",
        "turn_left()\n",
        "\n",
        "while not at_goal():\n",
        "  if front_is_clear() and wall_on_right():\n",
        "    move()\n",
        "  elif front_is_clear() and right_is_clear():\n",
        "    turn_right()\n",
        "    move()\n",
        "  elif front_is_clear():\n",
        "    move()\n",
        "  elif wall_in_front() and right_is_clear():\n",
        "    turn_right()\n",
        "    move()\n",
        "  else:\n",
        "    turn_left()"
      ]
    }
  ]
}
