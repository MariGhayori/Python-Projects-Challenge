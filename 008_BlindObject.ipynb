{
  "nbformat": 4,
  "nbformat_minor": 0,
  "metadata": {
    "colab": {
      "provenance": [],
      "authorship_tag": "ABX9TyM+nDNUcPcrR0CSVAN48Fda"
    },
    "kernelspec": {
      "name": "python3",
      "display_name": "Python 3"
    },
    "language_info": {
      "name": "python"
    }
  },
  "cells": [
    {
      "cell_type": "code",
      "execution_count": null,
      "metadata": {
        "id": "eiOy3P8U9rFS"
      },
      "outputs": [],
      "source": [
        "from IPython.display import clear_output\n",
        "\n",
        "Bidders = {}\n",
        "\n",
        "winner = \"\"\n",
        "theBid = \"0\"\n",
        "\n",
        "def add_bidders(name, bid):\n",
        "  Bidders.update({\n",
        "      \"name\": name,\n",
        "      \"bid\": bid\n",
        "  })\n",
        "\n",
        "x = True\n",
        "\n",
        "while x:\n",
        "  namee = input(\"What is your name? \")\n",
        "  bidd = input(\"What's your bid? \")\n",
        "\n",
        "  add_bidders(namee, bidd)\n",
        "\n",
        "  another = input(\"Is there another Person Who Wants to bid? (yes/no) \")\n",
        "\n",
        "  if another.lower() == \"yes\":\n",
        "    clear_output()\n",
        "  elif another.lower() == \"no\":\n",
        "    clear_output()\n",
        "    for bidder in Bidders:\n",
        "      if Bidders[bidder] > theBid:\n",
        "        winner = Bidders[\"name\"]\n",
        "        theBid = Bidders[\"bid\"]\n",
        "    print(f\"The Winner is {winner} with a bid of {theBid}\")\n",
        "    x = False"
      ]
    }
  ]
}