{
  "nbformat": 4,
  "nbformat_minor": 0,
  "metadata": {
    "colab": {
      "provenance": [],
      "authorship_tag": "ABX9TyNcwL1VxRn11GVbKBWcToz5"
    },
    "kernelspec": {
      "name": "python3",
      "display_name": "Python 3"
    },
    "language_info": {
      "name": "python"
    }
  },
  "cells": [
    {
      "cell_type": "markdown",
      "source": [
        "# Tip Calculator\n"
      ],
      "metadata": {
        "id": "DcCPx3ud0iRr"
      }
    },
    {
      "cell_type": "code",
      "execution_count": 4,
      "metadata": {
        "colab": {
          "base_uri": "https://localhost:8080/"
        },
        "id": "V_VoSa450KV1",
        "outputId": "029a3ab4-594f-431f-dc7b-709590b8e8c1"
      },
      "outputs": [
        {
          "output_type": "stream",
          "name": "stdout",
          "text": [
            "Welcome to the tip calculator and Expense Splitter!\n",
            "What was the total bill? $ 120\n",
            "How much tip would you want to give? 10, 12 or 15? 12\n",
            "How many people to split the bill? 4\n",
            "Each person should pay 33.6 $\n"
          ]
        }
      ],
      "source": [
        "print(\"Welcome to the tip calculator and Expense Splitter!\")\n",
        "\n",
        "bill = float(input(\"What was the total bill? $ \"))\n",
        "\n",
        "tip = int(input(\"How much tip would you want to give? 10, 12 or 15? \"))\n",
        "\n",
        "people = int(input(\"How many people to split the bill? \"))\n",
        "\n",
        "tip_as_percent = tip / 100\n",
        "total_tip = bill* tip_as_percent\n",
        "total_bill = bill + total_tip\n",
        "bill_per_person = total_bill / people\n",
        "\n",
        "final_amount = round(bill_per_person, 2)\n",
        "\n",
        "print(f\"Each person should pay {final_amount} $\")"
      ]
    }
  ]
}
