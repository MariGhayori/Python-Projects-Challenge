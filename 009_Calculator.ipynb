{
  "nbformat": 4,
  "nbformat_minor": 0,
  "metadata": {
    "colab": {
      "provenance": [],
      "authorship_tag": "ABX9TyMOE440KwIzVZb3uxxIMDe7"
    },
    "kernelspec": {
      "name": "python3",
      "display_name": "Python 3"
    },
    "language_info": {
      "name": "python"
    }
  },
  "cells": [
    {
      "cell_type": "code",
      "execution_count": 1,
      "metadata": {
        "colab": {
          "base_uri": "https://localhost:8080/"
        },
        "id": "eiOy3P8U9rFS",
        "outputId": "c51e1af9-3d41-428c-9c29-73455522238e"
      },
      "outputs": [
        {
          "name": "stdout",
          "output_type": "stream",
          "text": [
            "Enter your first number: 8\n",
            "+\n",
            "-\n",
            "*\n",
            "/\n",
            "Enter the operator you want to use: *\n",
            "Enter your second number: 7\n",
            "8.0 * 7.0 = 56.0\n",
            "Type 'y' to continue calculating with 56.0, type 'n' for new Calculations, or type 'e' to exit: e\n"
          ]
        }
      ],
      "source": [
        "# Calculator\n",
        "from IPython.display import clear_output\n",
        "\n",
        "def add(n1, n2):\n",
        "  return n1 + n2\n",
        "\n",
        "def sub(n1, n2):\n",
        "  return n1 - n2\n",
        "\n",
        "def div(n1, n2):\n",
        "  return n1 / n2\n",
        "\n",
        "def mul(n1, n2):\n",
        "  return n1 * n2\n",
        "\n",
        "def answer(num1, num2, operator):\n",
        "    for key in CalcDic:\n",
        "      if key == operator:\n",
        "        funcName = CalcDic[key]\n",
        "        return funcName(num1, num2)\n",
        "\n",
        "CalcDic = {\n",
        "    \"+\": add,\n",
        "    \"-\": sub,\n",
        "    \"*\": mul,\n",
        "    \"/\": div\n",
        "}\n",
        "\n",
        "\n",
        "def Calc():\n",
        "  num1 = float(input(\"Enter your first number: \"))\n",
        "  for key in CalcDic:\n",
        "    print(key)\n",
        "\n",
        "  just_continue = True\n",
        "\n",
        "  while (just_continue):\n",
        "    operator = input(\"Enter the operator you want to use: \")\n",
        "    num2 = float(input(\"Enter your second number: \"))\n",
        "\n",
        "    result = answer(num1,num2,operator)\n",
        "\n",
        "    print(f\"{num1} {operator} {num2} = {result}\")\n",
        "\n",
        "    continueCalc = input(f\"Type 'y' to continue calculating with {result}, type 'n' for new Calculations, or type 'e' to exit: \")\n",
        "\n",
        "    if continueCalc.lower() == 'y':\n",
        "      num1 = result\n",
        "    elif continueCalc.lower() == 'n':\n",
        "      clear_output()\n",
        "      Calc()\n",
        "    elif continueCalc.lower() == 'e':\n",
        "      break\n",
        "\n",
        "Calc()"
      ]
    }
  ]
}