{
  "nbformat": 4,
  "nbformat_minor": 0,
  "metadata": {
    "colab": {
      "provenance": [],
      "authorship_tag": "ABX9TyP8qqc7DIY4rcwk43Un7xNE"
    },
    "kernelspec": {
      "name": "python3",
      "display_name": "Python 3"
    },
    "language_info": {
      "name": "python"
    }
  },
  "cells": [
    {
      "cell_type": "code",
      "execution_count": 5,
      "metadata": {
        "colab": {
          "base_uri": "https://localhost:8080/"
        },
        "id": "eiOy3P8U9rFS",
        "outputId": "2078aea6-dd9f-4f71-a9ef-7e55f103b6f7"
      },
      "outputs": [
        {
          "output_type": "stream",
          "name": "stdout",
          "text": [
            "Welcome to the Number Guessing Game!\n",
            "I'm thinking of a number between 1 and 100\n",
            "Choose a difficulty. Type 'easy' or 'hard': hard\n",
            "You have 5 attempts remaining to guess the number\n",
            "Make a guess: 50\n",
            "Too Low\n",
            "Guess Again\n",
            "You have 4 attempts remaining to guess the number\n",
            "Make a guess: 70\n",
            "Too High\n",
            "Guess Again\n",
            "You have 3 attempts remaining to guess the number\n",
            "Make a guess: 60\n",
            "Too Low\n",
            "Guess Again\n",
            "You have 2 attempts remaining to guess the number\n",
            "Make a guess: 66\n",
            "Too Low\n",
            "Guess Again\n",
            "You ran out of chances, You loose.\n",
            "The number was 68\n",
            "You have 1 attempts remaining to guess the number\n",
            "Make a guess: 68\n",
            "You guessed right, The number was 68!\n"
          ]
        }
      ],
      "source": [
        "import random\n",
        "\n",
        "print(\"Welcome to the Number Guessing Game!\")\n",
        "\n",
        "COMPUTER_NUMBER = random.randint(1, 100)\n",
        "\n",
        "print(\"I'm thinking of a number between 1 and 100\")\n",
        "difficulty = input(\"Choose a difficulty. Type 'easy' or 'hard': \")\n",
        "\n",
        "def guesses(counter):\n",
        "  while(counter > 0):\n",
        "    print(f\"You have {counter} attempts remaining to guess the number\")\n",
        "    guess = int(input(\"Make a guess: \"))\n",
        "\n",
        "    if guess == COMPUTER_NUMBER:\n",
        "      print(f\"You guessed right, The number was {guess}!\")\n",
        "      break\n",
        "\n",
        "    elif guess > COMPUTER_NUMBER:\n",
        "      print(\"Too High\")\n",
        "      print(\"Guess Again\")\n",
        "      counter = counter -1\n",
        "\n",
        "    elif guess < COMPUTER_NUMBER:\n",
        "      print(\"Too Low\")\n",
        "      print(\"Guess Again\")\n",
        "      counter = counter -1\n",
        "\n",
        "    if counter - 1 == 0:\n",
        "      print(\"You ran out of chances, You loose.\")\n",
        "      print(f\"The number was {COMPUTER_NUMBER}\")\n",
        "\n",
        "if difficulty.lower() == 'easy':\n",
        "  eAttempts = 10\n",
        "  guesses(eAttempts)\n",
        "\n",
        "elif difficulty.lower() == 'hard':\n",
        "  hAttempts = 5\n",
        "  guesses(hAttempts)\n",
        "\n",
        "else:\n",
        "  print(\"You've typed NONSENSE!!\")"
      ]
    }
  ]
}
