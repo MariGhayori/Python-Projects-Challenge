{
  "nbformat": 4,
  "nbformat_minor": 0,
  "metadata": {
    "colab": {
      "provenance": [],
      "authorship_tag": "ABX9TyMk8Be1jMSW3VrOACkdbWyf"
    },
    "kernelspec": {
      "name": "python3",
      "display_name": "Python 3"
    },
    "language_info": {
      "name": "python"
    }
  },
  "cells": [
    {
      "cell_type": "markdown",
      "source": [
        "# **Password Generator**\n",
        "\n"
      ],
      "metadata": {
        "id": "CqJSt5lF6Z9N"
      }
    },
    {
      "cell_type": "code",
      "execution_count": 2,
      "metadata": {
        "id": "YY_3TjkdE4uI",
        "colab": {
          "base_uri": "https://localhost:8080/"
        },
        "outputId": "296250f3-dc73-44df-d608-ecd0830c6e78"
      },
      "outputs": [
        {
          "output_type": "stream",
          "name": "stdout",
          "text": [
            "Welcome to the PyPassword Generator!\n",
            "How many letters would you like in your password? 7\n",
            "How many numbers would you like? 5\n",
            "How many symbols would you like? 2\n",
            "OudyeJk567182#!\n",
            "JeOk82uy56#1!7d\n"
          ]
        }
      ],
      "source": [
        "# Password Generator - My Code\n",
        "import random\n",
        "\n",
        "alphabet = ['a', 'b', 'c', 'd', 'e', 'f', 'g', 'h', 'i', 'j', 'k', 'l', 'm', 'n',\n",
        "            'o', 'p', 'q', 'r', 's', 't', 'u', 'v', 'w', 'x', 'y', 'z', 'A', 'B',\n",
        "            'C', 'D', 'E', 'F', 'G', 'H', 'I', 'J', 'K', 'L', 'M', 'N', 'O', 'P',\n",
        "            'Q', 'R', 'S', 'T', 'U', 'V', 'W', 'X', 'Y', 'Z']\n",
        "numbers = ['0', '1', '2', '3', '4', '5' '6', '7', '8', '9']\n",
        "symbols = ['!', '@', '#', '$', '%', '&', '(', ')', '*', '+']\n",
        "\n",
        "print(\"Welcome to the PyPassword Generator!\")\n",
        "\n",
        "nr_letters = int(input(\"How many letters would you like in your password? \"))\n",
        "nr_numbers = int(input(\"How many numbers would you like? \"))\n",
        "nr_symbols = int(input(\"How many symbols would you like? \"))\n",
        "\n",
        "random_letters = []\n",
        "random_numbers = []\n",
        "random_symbols = []\n",
        "\n",
        "password = []\n",
        "\n",
        "# Easy Level\n",
        "for alpha in range(0, nr_letters):\n",
        "  random_letters.append(random.choice(alphabet))\n",
        "\n",
        "for num in range(0, nr_numbers):\n",
        "  random_numbers.append(random.choice(numbers))\n",
        "\n",
        "for symb in range(0, nr_symbols):\n",
        "  random_symbols.append(random.choice(symbols))\n",
        "\n",
        "s = \"\"\n",
        "\n",
        "password = random_letters + random_numbers + random_symbols\n",
        "print(s.join(password))\n",
        "\n",
        "random.shuffle(password)\n",
        "# Hard Level\n",
        "print(s.join(password))\n"
      ]
    }
  ]
}