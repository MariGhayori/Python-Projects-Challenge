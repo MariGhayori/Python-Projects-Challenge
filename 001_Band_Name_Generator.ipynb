{
  "nbformat": 4,
  "nbformat_minor": 0,
  "metadata": {
    "colab": {
      "provenance": [],
      "authorship_tag": "ABX9TyOZMwC2gdszQeKy5EbShE6q",
      "include_colab_link": true
    },
    "kernelspec": {
      "name": "python3",
      "display_name": "Python 3"
    },
    "language_info": {
      "name": "python"
    }
  },
  "cells": [
    {
      "cell_type": "markdown",
      "metadata": {
        "id": "view-in-github",
        "colab_type": "text"
      },
      "source": [
        "<a href=\"https://colab.research.google.com/github/MariGhayori/Python-Projects-Challenge/blob/main/001_Band_Name_Generator.ipynb\" target=\"_parent\"><img src=\"https://colab.research.google.com/assets/colab-badge.svg\" alt=\"Open In Colab\"/></a>"
      ]
    },
    {
      "cell_type": "markdown",
      "source": [
        "# Band Name Generator\n",
        "\n",
        "Write a program that:\n",
        "\n",
        "\n",
        "*   Asks users for the name of the city they live in and What was their childhood pet's name\n",
        "*   Combine these information to form a band name\n",
        "\n"
      ],
      "metadata": {
        "id": "DcCPx3ud0iRr"
      }
    },
    {
      "cell_type": "code",
      "execution_count": 3,
      "metadata": {
        "colab": {
          "base_uri": "https://localhost:8080/"
        },
        "id": "V_VoSa450KV1",
        "outputId": "75d70a19-5189-43ec-885c-0e3604878bd0"
      },
      "outputs": [
        {
          "output_type": "stream",
          "name": "stdout",
          "text": [
            "Welcome to the Band Name Generator!\n",
            "What is the name of the city you grew up in?Persian\n",
            "What is the name of your childhood pet?cat\n",
            "The name of Your band can be: Persian cat\n"
          ]
        }
      ],
      "source": [
        "print(\"Welcome to the Band Name Generator!\")\n",
        "\n",
        "city = input(\"What is the name of the city you grew up in?\")\n",
        "pet = input(\"What is the name of your childhood pet?\")\n",
        "\n",
        "print(\"The name of Your band can be: \" + city + \" \" + pet)"
      ]
    }
  ]
}