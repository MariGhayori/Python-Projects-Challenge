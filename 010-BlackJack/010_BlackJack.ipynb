{
  "nbformat": 4,
  "nbformat_minor": 0,
  "metadata": {
    "colab": {
      "provenance": [],
      "authorship_tag": "ABX9TyPKOAAiRJoDgQU69vvfM28P"
    },
    "kernelspec": {
      "name": "python3",
      "display_name": "Python 3"
    },
    "language_info": {
      "name": "python"
    }
  },
  "cells": [
    {
      "cell_type": "code",
      "execution_count": 4,
      "metadata": {
        "colab": {
          "base_uri": "https://localhost:8080/"
        },
        "id": "eiOy3P8U9rFS",
        "outputId": "490f0123-4bcb-4577-db3c-93138ab31862"
      },
      "outputs": [
        {
          "output_type": "stream",
          "name": "stdout",
          "text": [
            "Do You Want to play BlackJack? (y/n) y\n",
            "Your cards are [10, 7], Your current score is: 17\n",
            "Computer's first card is: 8\n",
            "Do you want to draw another card? (y/n) y\n",
            "Your cards are [10, 7, 10], Your current score is: 27\n",
            "Dealer's cards are: [8, 5, 4], and dealer's score is 17\n",
            "You Lose!\n"
          ]
        }
      ],
      "source": [
        "import random\n",
        "\n",
        "player = []\n",
        "dealer = []\n",
        "\n",
        "current = 0\n",
        "dealerCount = 0\n",
        "\n",
        "stop = False\n",
        "\n",
        "cards = [11, 2, 3, 4, 5, 6, 7, 8, 9, 10, 10, 10, 10]\n",
        "\n",
        "def add(input1, input2):\n",
        "  return input1 + input2\n",
        "\n",
        "def randoms():\n",
        "  return random.choice(cards)\n",
        "\n",
        "def cardPicker():\n",
        "  player.append(randoms())\n",
        "  dealer.append(randoms())\n",
        "\n",
        "def CheckScores(PlayerCurrent, DealerCurrent):\n",
        "  print(f\"Dealer's cards are: {dealer}, and dealer's score is {DealerCurrent}\")\n",
        "  if PlayerCurrent > 21 and DealerCurrent > 21:\n",
        "    return \"You Lose!\"\n",
        "  elif PlayerCurrent == DealerCurrent:\n",
        "    return \"Draw\"\n",
        "  elif PlayerCurrent > 21:\n",
        "    return \"You Lose!\"\n",
        "  elif DealerCurrent > 21:\n",
        "    return \"You Win!\"\n",
        "  elif PlayerCurrent > DealerCurrent:\n",
        "    return \"You Win!\"\n",
        "  else:\n",
        "    return \"You Lose\"\n",
        "\n",
        "play = input(\"Do You Want to play BlackJack? (y/n) \")\n",
        "\n",
        "\n",
        "if play.lower() == 'y':\n",
        "  for i in range(2):\n",
        "    cardPicker()\n",
        "\n",
        "  for i in range(len(player)):\n",
        "    current = add(current, player[i-1])\n",
        "\n",
        "  for i in range(len(dealer)):\n",
        "    dealerCount = add(dealerCount, dealer[i-1])\n",
        "\n",
        "  if 11 in player and current >= 21:\n",
        "    player.remove(11)\n",
        "    player.append(1)\n",
        "    current = current - 10\n",
        "\n",
        "  print(f\"Your cards are {player}, Your current score is: {current}\")\n",
        "  print(f\"Computer's first card is: {dealer[0]}\")\n",
        "\n",
        "  while (stop == False):\n",
        "    if current < 21:\n",
        "      keepPlaying = input(\"Do you want to draw another card? (y/n) \")\n",
        "\n",
        "      if keepPlaying == 'y':\n",
        "        cardPicker()\n",
        "        current = add(current, player[len(player)-1])\n",
        "        dealerCount = add(dealerCount, dealer[len(dealer)-1])\n",
        "\n",
        "        if 11 in player and current >= 21:\n",
        "          player.remove(11)\n",
        "          player.append(1)\n",
        "          current = current - 10\n",
        "\n",
        "        print(f\"Your cards are {player}, Your current score is: {current}\")\n",
        "        if current > 21:\n",
        "          print(CheckScores(current, dealerCount))\n",
        "          stop = True\n",
        "\n",
        "      elif keepPlaying == 'n':\n",
        "        print(CheckScores(current, dealerCount))\n",
        "        stop = True;\n",
        "    else:\n",
        "      print(CheckScores(current, dealerCount))\n",
        "      stop = True;"
      ]
    }
  ]
}
