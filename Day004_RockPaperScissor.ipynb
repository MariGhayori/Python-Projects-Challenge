{
  "nbformat": 4,
  "nbformat_minor": 0,
  "metadata": {
    "colab": {
      "provenance": [],
      "authorship_tag": "ABX9TyP7BFYlw7VDytBJ6xZnn/YF"
    },
    "kernelspec": {
      "name": "python3",
      "display_name": "Python 3"
    },
    "language_info": {
      "name": "python"
    }
  },
  "cells": [
    {
      "cell_type": "markdown",
      "source": [
        "# **Rock, Paper, Scissors Game**"
      ],
      "metadata": {
        "id": "CqJSt5lF6Z9N"
      }
    },
    {
      "cell_type": "code",
      "execution_count": 1,
      "metadata": {
        "id": "YY_3TjkdE4uI",
        "colab": {
          "base_uri": "https://localhost:8080/"
        },
        "outputId": "55a1fe5d-f208-46df-bc62-7a54d52309c7"
      },
      "outputs": [
        {
          "output_type": "stream",
          "name": "stdout",
          "text": [
            "Welcome to Rock, Paper, Scissors Game!\n",
            "What do you choose? Type 0 for Rock, 1 for Paper or 2 for Scissors: 1\n",
            "You chose Paper\n",
            "\n",
            "     _______\n",
            "---'    ____)____\n",
            "           ______)\n",
            "          _______)\n",
            "         _______)\n",
            "---.__________)\n",
            "\n",
            "The computer chose Paper\n",
            "\n",
            "     _______\n",
            "---'    ____)____\n",
            "           ______)\n",
            "          _______)\n",
            "         _______)\n",
            "---.__________)\n",
            "\n",
            "Draw\n"
          ]
        }
      ],
      "source": [
        "# Rock, Paper, Scissors - My Code\n",
        "import random\n",
        "\n",
        "print(\"Welcome to Rock, Paper, Scissors Game!\")\n",
        "\n",
        "shapes = [\n",
        "'''\n",
        "    _______\n",
        "---'   ____)\n",
        "      (_____)\n",
        "      (_____)\n",
        "      (____)\n",
        "---.__(___)\n",
        "''',\n",
        "'''\n",
        "     _______\n",
        "---'    ____)____\n",
        "           ______)\n",
        "          _______)\n",
        "         _______)\n",
        "---.__________)\n",
        "''',\n",
        "'''\n",
        "    _______\n",
        "---'   ____)____\n",
        "          ______)\n",
        "       __________)\n",
        "      (____)\n",
        "---.__(___)\n",
        "'''\n",
        "]\n",
        "\n",
        "shape = [\"Rock\", \"Paper\", \"Scissors\"]\n",
        "\n",
        "my_choice = int(input(\"What do you choose? Type 0 for Rock, 1 for Paper or 2 for Scissors: \"))\n",
        "# My Error Handler\n",
        "if (my_choice >= 3) or (my_choice < 0):\n",
        "  while (my_choice >= 3) or (my_choice < 0):\n",
        "    print(\"You typed an invalid number.\")\n",
        "    my_choice = int(input(\"What do you choose? Type 0 for Rock, 1 for Paper or 2 for Scissors: \"))\n",
        "\n",
        "print(f\"You chose {shape[my_choice]}\\n\" + shapes[my_choice])\n",
        "\n",
        "computer_choice = random.randint(0,2)\n",
        "print(f\"The computer chose {shape[computer_choice]}\\n\" + shapes[computer_choice])\n",
        "\n",
        "if (my_choice == computer_choice):\n",
        "  print(\"Draw\")\n",
        "#Choosing Rock\n",
        "elif(my_choice == 0) and (computer_choice == 1):\n",
        "  print(\"Game Over!\")\n",
        "elif(my_choice == 0) and (computer_choice == 2):\n",
        "  print(\"You win!\")\n",
        "#Choosing Paper\n",
        "elif(my_choice == 1) and (computer_choice == 0):\n",
        "  print(\"You win!\")\n",
        "elif(my_choice == 1) and (computer_choice == 2):\n",
        "  print(\"Game Over!\")\n",
        "#Choosing Scissors\n",
        "elif(my_choice == 2) and (computer_choice == 0):\n",
        "  print(\"Game Over!\")\n",
        "elif(my_choice == 2) and (computer_choice == 1):\n",
        "  print(\"You Win!\")\n",
        "else:\n",
        "  print(\"Please enter a number between 0 and 2!\")"
      ]
    }
  ]
}